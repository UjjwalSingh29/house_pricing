{
 "cells": [
  {
   "cell_type": "markdown",
   "metadata": {
    "id": "9hir-UHMUlcm"
   },
   "source": [
    "## **Importing the libraries**"
   ]
  },
  {
   "cell_type": "code",
   "execution_count": null,
   "metadata": {
    "execution": {
     "iopub.execute_input": "2023-05-01T16:21:21.324926Z",
     "iopub.status.busy": "2023-05-01T16:21:21.324474Z",
     "iopub.status.idle": "2023-05-01T16:21:21.365167Z",
     "shell.execute_reply": "2023-05-01T16:21:21.363737Z",
     "shell.execute_reply.started": "2023-05-01T16:21:21.324885Z"
    }
   },
   "outputs": [],
   "source": [
    "# This Python 3 environment comes with many helpful analytics libraries installed\n",
    "# It is defined by the kaggle/python Docker image: https://github.com/kaggle/docker-python\n",
    "# For example, here's several helpful packages to load\n",
    "\n",
    "import numpy as np # linear algebra\n",
    "import pandas as pd # data processing, CSV file I/O (e.g. pd.read_csv)\n",
    "\n",
    "# Input data files are available in the read-only \"../input/\" directory\n",
    "# For example, running this (by clicking run or pressing Shift+Enter) will list all files under the input directory\n",
    "\n",
    "import os\n",
    "for dirname, _, filenames in os.walk('/kaggle/input'):\n",
    "    for filename in filenames:\n",
    "        print(os.path.join(dirname, filename))\n",
    "\n",
    "# You can write up to 20GB to the current directory (/kaggle/working/) that gets preserved as output when you create a version using \"Save & Run All\" \n",
    "# You can also write temporary files to /kaggle/temp/, but they won't be saved outside of the current session"
   ]
  },
  {
   "cell_type": "code",
   "execution_count": null,
   "metadata": {
    "execution": {
     "iopub.execute_input": "2023-05-01T16:21:21.368178Z",
     "iopub.status.busy": "2023-05-01T16:21:21.367702Z",
     "iopub.status.idle": "2023-05-01T16:21:22.740569Z",
     "shell.execute_reply": "2023-05-01T16:21:22.739063Z",
     "shell.execute_reply.started": "2023-05-01T16:21:21.368130Z"
    },
    "id": "q2vmO_7NKr7f"
   },
   "outputs": [],
   "source": [
    "import numpy as np\n",
    "import pandas as pd\n",
    "import seaborn as sns\n",
    "import matplotlib.pyplot as plt\n",
    "%matplotlib inline"
   ]
  },
  {
   "cell_type": "markdown",
   "metadata": {
    "id": "NfwVTKF0U0Xe"
   },
   "source": [
    "## **Loading the dataset and collect the information** "
   ]
  },
  {
   "cell_type": "code",
   "execution_count": null,
   "metadata": {
    "execution": {
     "iopub.execute_input": "2023-05-01T16:21:22.749899Z",
     "iopub.status.busy": "2023-05-01T16:21:22.748270Z",
     "iopub.status.idle": "2023-05-01T16:21:22.840943Z",
     "shell.execute_reply": "2023-05-01T16:21:22.839131Z",
     "shell.execute_reply.started": "2023-05-01T16:21:22.749822Z"
    },
    "id": "r3ZRMU5xLZ_y"
   },
   "outputs": [],
   "source": [
    "df_test = pd.read_csv('/kaggle/input/house-prices-advanced-regression-techniques/test.csv')\n",
    "df_train=pd.read_csv('/kaggle/input/house-prices-advanced-regression-techniques/train.csv')"
   ]
  },
  {
   "cell_type": "code",
   "execution_count": null,
   "metadata": {
    "execution": {
     "iopub.execute_input": "2023-05-01T16:21:22.845333Z",
     "iopub.status.busy": "2023-05-01T16:21:22.844429Z",
     "iopub.status.idle": "2023-05-01T16:21:22.921006Z",
     "shell.execute_reply": "2023-05-01T16:21:22.919548Z",
     "shell.execute_reply.started": "2023-05-01T16:21:22.845236Z"
    },
    "id": "jO9RVt9dSf1L",
    "outputId": "b9b509e6-3948-46f1-c92e-177b651a6bcb"
   },
   "outputs": [],
   "source": [
    "df_test"
   ]
  },
  {
   "cell_type": "code",
   "execution_count": null,
   "metadata": {
    "execution": {
     "iopub.execute_input": "2023-05-01T16:21:22.924051Z",
     "iopub.status.busy": "2023-05-01T16:21:22.923079Z",
     "iopub.status.idle": "2023-05-01T16:21:22.966295Z",
     "shell.execute_reply": "2023-05-01T16:21:22.964969Z",
     "shell.execute_reply.started": "2023-05-01T16:21:22.923993Z"
    },
    "id": "x4ksiUd-SjO6",
    "outputId": "3cbf5b4d-0312-4e3f-faaf-58715b1e3af6"
   },
   "outputs": [],
   "source": [
    "df_train"
   ]
  },
  {
   "cell_type": "code",
   "execution_count": null,
   "metadata": {
    "execution": {
     "iopub.execute_input": "2023-05-01T16:21:22.969574Z",
     "iopub.status.busy": "2023-05-01T16:21:22.968152Z",
     "iopub.status.idle": "2023-05-01T16:21:22.976372Z",
     "shell.execute_reply": "2023-05-01T16:21:22.975162Z",
     "shell.execute_reply.started": "2023-05-01T16:21:22.969509Z"
    },
    "id": "eIA6aS52Sk-d",
    "outputId": "04815f70-8e74-42a6-caa6-0cb20ee6383f"
   },
   "outputs": [],
   "source": [
    "print(df_train.columns)\n",
    "print(len(df_train.columns),\"fetures present in training dataset\")\n"
   ]
  },
  {
   "cell_type": "code",
   "execution_count": null,
   "metadata": {
    "execution": {
     "iopub.execute_input": "2023-05-01T16:21:22.978094Z",
     "iopub.status.busy": "2023-05-01T16:21:22.977762Z",
     "iopub.status.idle": "2023-05-01T16:21:22.988816Z",
     "shell.execute_reply": "2023-05-01T16:21:22.987665Z",
     "shell.execute_reply.started": "2023-05-01T16:21:22.978062Z"
    },
    "id": "K0O0wsGvTLE6",
    "outputId": "70ebe0d8-f055-4ff1-9bf0-7e9f490d547d"
   },
   "outputs": [],
   "source": [
    "print(df_test.columns)\n",
    "print(len(df_test.columns),\"fetures present in testing dataset\")\n"
   ]
  },
  {
   "cell_type": "code",
   "execution_count": null,
   "metadata": {
    "execution": {
     "iopub.execute_input": "2023-05-01T16:21:22.991135Z",
     "iopub.status.busy": "2023-05-01T16:21:22.990427Z",
     "iopub.status.idle": "2023-05-01T16:21:23.004937Z",
     "shell.execute_reply": "2023-05-01T16:21:23.003608Z",
     "shell.execute_reply.started": "2023-05-01T16:21:22.991100Z"
    },
    "id": "YQAQuObyTC3U",
    "outputId": "733f19e9-34d2-44a3-c015-8ef7f13fceb7"
   },
   "outputs": [],
   "source": [
    "print(df_test.shape,\"shape of testing dataset\")\n",
    "print(df_train.shape,\"shape of training dataset\")"
   ]
  },
  {
   "cell_type": "code",
   "execution_count": null,
   "metadata": {
    "execution": {
     "iopub.execute_input": "2023-05-01T16:21:23.008407Z",
     "iopub.status.busy": "2023-05-01T16:21:23.007329Z",
     "iopub.status.idle": "2023-05-01T16:21:23.050276Z",
     "shell.execute_reply": "2023-05-01T16:21:23.049395Z",
     "shell.execute_reply.started": "2023-05-01T16:21:23.008355Z"
    },
    "id": "3S_QBBixT-NX",
    "outputId": "4aecfb2d-f846-4d02-a440-d9b2467f6aa9"
   },
   "outputs": [],
   "source": [
    "df_train.info()"
   ]
  },
  {
   "cell_type": "code",
   "execution_count": null,
   "metadata": {
    "execution": {
     "iopub.execute_input": "2023-05-01T16:21:23.054914Z",
     "iopub.status.busy": "2023-05-01T16:21:23.054231Z",
     "iopub.status.idle": "2023-05-01T16:21:23.077667Z",
     "shell.execute_reply": "2023-05-01T16:21:23.076504Z",
     "shell.execute_reply.started": "2023-05-01T16:21:23.054875Z"
    },
    "id": "q9bgicytUC4F",
    "outputId": "07ca5361-a1a8-455a-ba97-46e7560bfbe1"
   },
   "outputs": [],
   "source": [
    "df_test.info()"
   ]
  },
  {
   "cell_type": "code",
   "execution_count": null,
   "metadata": {
    "execution": {
     "iopub.execute_input": "2023-05-01T16:21:23.080078Z",
     "iopub.status.busy": "2023-05-01T16:21:23.079208Z",
     "iopub.status.idle": "2023-05-01T16:21:23.193028Z",
     "shell.execute_reply": "2023-05-01T16:21:23.191803Z",
     "shell.execute_reply.started": "2023-05-01T16:21:23.080041Z"
    },
    "id": "d7G5UJJ1UJ2h",
    "outputId": "81e22727-0a65-4765-f1e5-299e3423fd23"
   },
   "outputs": [],
   "source": [
    "df_train.describe()"
   ]
  },
  {
   "cell_type": "markdown",
   "metadata": {
    "id": "R2FAh_FzVCoc"
   },
   "source": [
    "## Data Pre-Processing"
   ]
  },
  {
   "cell_type": "markdown",
   "metadata": {
    "id": "zI1ALelwaPkh"
   },
   "source": [
    "#check whether the dataset have duplicate value"
   ]
  },
  {
   "cell_type": "code",
   "execution_count": null,
   "metadata": {
    "execution": {
     "iopub.execute_input": "2023-05-01T16:21:23.195292Z",
     "iopub.status.busy": "2023-05-01T16:21:23.194665Z",
     "iopub.status.idle": "2023-05-01T16:21:23.220140Z",
     "shell.execute_reply": "2023-05-01T16:21:23.219240Z",
     "shell.execute_reply.started": "2023-05-01T16:21:23.195254Z"
    },
    "id": "_y8j-NV2XBKC",
    "outputId": "57a69bc2-0b07-407a-d19c-920c156850fd"
   },
   "outputs": [],
   "source": [
    "df_train.duplicated().sum()"
   ]
  },
  {
   "cell_type": "code",
   "execution_count": null,
   "metadata": {
    "execution": {
     "iopub.execute_input": "2023-05-01T16:21:23.222003Z",
     "iopub.status.busy": "2023-05-01T16:21:23.221661Z",
     "iopub.status.idle": "2023-05-01T16:21:23.246851Z",
     "shell.execute_reply": "2023-05-01T16:21:23.245519Z",
     "shell.execute_reply.started": "2023-05-01T16:21:23.221970Z"
    },
    "id": "nbWna-OdXK5c",
    "outputId": "5bebc197-a8a1-4abc-f5a0-bdaa01f1526d"
   },
   "outputs": [],
   "source": [
    "df_test.duplicated().sum()"
   ]
  },
  {
   "cell_type": "markdown",
   "metadata": {
    "id": "RdT2fWiBamHT"
   },
   "source": [
    "check whether the dataset have Null values"
   ]
  },
  {
   "cell_type": "code",
   "execution_count": null,
   "metadata": {
    "execution": {
     "iopub.execute_input": "2023-05-01T16:21:23.248812Z",
     "iopub.status.busy": "2023-05-01T16:21:23.248368Z",
     "iopub.status.idle": "2023-05-01T16:21:23.272386Z",
     "shell.execute_reply": "2023-05-01T16:21:23.271064Z",
     "shell.execute_reply.started": "2023-05-01T16:21:23.248770Z"
    },
    "id": "pC4jY0hjUSZ-",
    "outputId": "06a7100a-3689-4e34-b425-6322056a16f1"
   },
   "outputs": [],
   "source": [
    "print(df_train.isnull().sum())\n",
    "print('-----------')\n",
    "print('-----------')\n",
    "print('-----------')\n",
    "print(df_test.isnull().sum())"
   ]
  },
  {
   "cell_type": "markdown",
   "metadata": {
    "id": "o8II3xTMaywk"
   },
   "source": [
    "#sorting the column according to highest null values"
   ]
  },
  {
   "cell_type": "code",
   "execution_count": null,
   "metadata": {
    "execution": {
     "iopub.execute_input": "2023-05-01T16:21:23.275008Z",
     "iopub.status.busy": "2023-05-01T16:21:23.274536Z",
     "iopub.status.idle": "2023-05-01T16:21:23.334285Z",
     "shell.execute_reply": "2023-05-01T16:21:23.332539Z",
     "shell.execute_reply.started": "2023-05-01T16:21:23.274958Z"
    },
    "id": "zep6y2G3WClx",
    "outputId": "5c6616d3-2b31-4c07-d2f8-abe98ac89c07"
   },
   "outputs": [],
   "source": [
    "dataframe = pd.DataFrame(df_train.isnull().sum().sort_values(ascending=False))\n",
    " \n",
    "print(dataframe.to_markdown())"
   ]
  },
  {
   "cell_type": "code",
   "execution_count": null,
   "metadata": {
    "execution": {
     "iopub.execute_input": "2023-05-01T16:21:23.337081Z",
     "iopub.status.busy": "2023-05-01T16:21:23.336582Z",
     "iopub.status.idle": "2023-05-01T16:21:23.360630Z",
     "shell.execute_reply": "2023-05-01T16:21:23.358938Z",
     "shell.execute_reply.started": "2023-05-01T16:21:23.337027Z"
    },
    "id": "PUFknlRKWkY1",
    "outputId": "4af42807-afc5-477c-e5e9-b24cf8d330da"
   },
   "outputs": [],
   "source": [
    "dataframe_test = pd.DataFrame(df_test.isnull().sum().sort_values(ascending=False))\n",
    "print(dataframe_test.to_markdown())"
   ]
  },
  {
   "cell_type": "code",
   "execution_count": null,
   "metadata": {
    "execution": {
     "iopub.execute_input": "2023-05-01T16:21:23.363823Z",
     "iopub.status.busy": "2023-05-01T16:21:23.362497Z",
     "iopub.status.idle": "2023-05-01T16:21:23.384661Z",
     "shell.execute_reply": "2023-05-01T16:21:23.382914Z",
     "shell.execute_reply.started": "2023-05-01T16:21:23.363779Z"
    },
    "id": "dyUACuU7XptI",
    "outputId": "c93bad7e-d9b1-4ecb-be3a-8e6151cd5088"
   },
   "outputs": [],
   "source": [
    "null=df_train.isnull().sum()/df_train.shape[0]*100\n",
    "null"
   ]
  },
  {
   "cell_type": "code",
   "execution_count": null,
   "metadata": {
    "execution": {
     "iopub.execute_input": "2023-05-01T16:21:23.388701Z",
     "iopub.status.busy": "2023-05-01T16:21:23.388096Z",
     "iopub.status.idle": "2023-05-01T16:21:23.402876Z",
     "shell.execute_reply": "2023-05-01T16:21:23.401171Z",
     "shell.execute_reply.started": "2023-05-01T16:21:23.388639Z"
    },
    "id": "p0HoKrs7Xws9",
    "outputId": "3f658eac-1887-407c-8c69-25c3d99bdefc"
   },
   "outputs": [],
   "source": [
    "dataframe_null = pd.DataFrame(null.sort_values(ascending=False))\n",
    "print(dataframe_null.to_markdown())"
   ]
  },
  {
   "cell_type": "markdown",
   "metadata": {
    "id": "fH8Sh5LxbOAZ"
   },
   "source": [
    "#dropping the columns which have null percent higher than 50%\n"
   ]
  },
  {
   "cell_type": "code",
   "execution_count": null,
   "metadata": {
    "execution": {
     "iopub.execute_input": "2023-05-01T16:21:23.405700Z",
     "iopub.status.busy": "2023-05-01T16:21:23.405082Z",
     "iopub.status.idle": "2023-05-01T16:21:23.415837Z",
     "shell.execute_reply": "2023-05-01T16:21:23.414030Z",
     "shell.execute_reply.started": "2023-05-01T16:21:23.405653Z"
    },
    "id": "ou8KlXuWYGr0"
   },
   "outputs": [],
   "source": [
    "col_to_drop = null[null>50].keys()\n",
    "train_df=df_train.drop(col_to_drop, axis=1)\n"
   ]
  },
  {
   "cell_type": "code",
   "execution_count": null,
   "metadata": {
    "execution": {
     "iopub.execute_input": "2023-05-01T16:21:23.418132Z",
     "iopub.status.busy": "2023-05-01T16:21:23.417679Z",
     "iopub.status.idle": "2023-05-01T16:21:23.445300Z",
     "shell.execute_reply": "2023-05-01T16:21:23.443622Z",
     "shell.execute_reply.started": "2023-05-01T16:21:23.418090Z"
    },
    "id": "akCR3-yJYeRG",
    "outputId": "32dadb7b-c349-4ddb-ae2c-c4c8fc66918e"
   },
   "outputs": [],
   "source": [
    "null_test=df_test.isnull().sum()/df_test.shape[0]*100\n",
    "null_test"
   ]
  },
  {
   "cell_type": "code",
   "execution_count": null,
   "metadata": {
    "execution": {
     "iopub.execute_input": "2023-05-01T16:21:23.447672Z",
     "iopub.status.busy": "2023-05-01T16:21:23.447131Z",
     "iopub.status.idle": "2023-05-01T16:21:23.466052Z",
     "shell.execute_reply": "2023-05-01T16:21:23.463961Z",
     "shell.execute_reply.started": "2023-05-01T16:21:23.447628Z"
    },
    "id": "kniNxwiqaAMx",
    "outputId": "f2666485-77ba-446d-8654-03c0551cf8e7"
   },
   "outputs": [],
   "source": [
    "dataframe_null_test = pd.DataFrame(null_test.sort_values(ascending=False))\n",
    "print(dataframe_null_test.to_markdown())"
   ]
  },
  {
   "cell_type": "code",
   "execution_count": null,
   "metadata": {
    "execution": {
     "iopub.execute_input": "2023-05-01T16:21:23.469673Z",
     "iopub.status.busy": "2023-05-01T16:21:23.469075Z",
     "iopub.status.idle": "2023-05-01T16:21:23.480503Z",
     "shell.execute_reply": "2023-05-01T16:21:23.478867Z",
     "shell.execute_reply.started": "2023-05-01T16:21:23.469614Z"
    },
    "id": "hv3Smwk_aIWJ"
   },
   "outputs": [],
   "source": [
    "col_to_drop_test= null_test[null_test>50].keys()\n",
    "test_df=df_test.drop(col_to_drop, axis=1)"
   ]
  },
  {
   "cell_type": "code",
   "execution_count": null,
   "metadata": {
    "execution": {
     "iopub.execute_input": "2023-05-01T16:21:23.483674Z",
     "iopub.status.busy": "2023-05-01T16:21:23.483109Z",
     "iopub.status.idle": "2023-05-01T16:21:23.495817Z",
     "shell.execute_reply": "2023-05-01T16:21:23.494139Z",
     "shell.execute_reply.started": "2023-05-01T16:21:23.483615Z"
    },
    "id": "8uvoxhRvaV5q",
    "outputId": "4c66a843-ad54-484a-bde3-33d9467022c0"
   },
   "outputs": [],
   "source": [
    "len(train_df.columns)"
   ]
  },
  {
   "cell_type": "code",
   "execution_count": null,
   "metadata": {
    "execution": {
     "iopub.execute_input": "2023-05-01T16:21:23.498624Z",
     "iopub.status.busy": "2023-05-01T16:21:23.498134Z",
     "iopub.status.idle": "2023-05-01T16:21:23.510290Z",
     "shell.execute_reply": "2023-05-01T16:21:23.508490Z",
     "shell.execute_reply.started": "2023-05-01T16:21:23.498539Z"
    },
    "id": "8zlCwU_PehwC",
    "outputId": "ef7c38a8-fc91-46de-e723-d22234924fe3"
   },
   "outputs": [],
   "source": [
    "len(test_df.columns)"
   ]
  },
  {
   "cell_type": "code",
   "execution_count": null,
   "metadata": {
    "execution": {
     "iopub.execute_input": "2023-05-01T16:21:23.513156Z",
     "iopub.status.busy": "2023-05-01T16:21:23.512686Z",
     "iopub.status.idle": "2023-05-01T16:21:23.531242Z",
     "shell.execute_reply": "2023-05-01T16:21:23.529652Z",
     "shell.execute_reply.started": "2023-05-01T16:21:23.513114Z"
    },
    "id": "ZV7Qq7G_vsPn",
    "outputId": "9f66b4e4-c1e9-4b30-c63f-40b99c9be84f"
   },
   "outputs": [],
   "source": [
    "train_df.columns[train_df.isnull().any()]"
   ]
  },
  {
   "cell_type": "code",
   "execution_count": null,
   "metadata": {
    "execution": {
     "iopub.execute_input": "2023-05-01T16:21:23.536409Z",
     "iopub.status.busy": "2023-05-01T16:21:23.535931Z",
     "iopub.status.idle": "2023-05-01T16:21:23.554813Z",
     "shell.execute_reply": "2023-05-01T16:21:23.552586Z",
     "shell.execute_reply.started": "2023-05-01T16:21:23.536365Z"
    },
    "id": "x57tOZ-Iv3Xb",
    "outputId": "d06b7d7e-edf6-4815-cc46-cc04268ca52e"
   },
   "outputs": [],
   "source": [
    "len(train_df.columns[train_df.isnull().any()])"
   ]
  },
  {
   "cell_type": "markdown",
   "metadata": {
    "id": "YjNGis_BbeUB"
   },
   "source": [
    "# Checking the skew value to fill the null values in the dataset"
   ]
  },
  {
   "cell_type": "code",
   "execution_count": null,
   "metadata": {
    "execution": {
     "iopub.execute_input": "2023-05-01T16:21:23.557996Z",
     "iopub.status.busy": "2023-05-01T16:21:23.556793Z",
     "iopub.status.idle": "2023-05-01T16:21:23.583624Z",
     "shell.execute_reply": "2023-05-01T16:21:23.581746Z",
     "shell.execute_reply.started": "2023-05-01T16:21:23.557945Z"
    },
    "id": "VfsxUksO0jaf",
    "outputId": "649128cd-0dff-40f5-ba52-4930726db1c5"
   },
   "outputs": [],
   "source": [
    "train_df.skew()"
   ]
  },
  {
   "cell_type": "markdown",
   "metadata": {
    "id": "FL_u8pohgFGc"
   },
   "source": [
    "# fill the missing value"
   ]
  },
  {
   "cell_type": "code",
   "execution_count": null,
   "metadata": {
    "execution": {
     "iopub.execute_input": "2023-05-01T16:21:23.597951Z",
     "iopub.status.busy": "2023-05-01T16:21:23.596570Z",
     "iopub.status.idle": "2023-05-01T16:21:23.611794Z",
     "shell.execute_reply": "2023-05-01T16:21:23.609637Z",
     "shell.execute_reply.started": "2023-05-01T16:21:23.597901Z"
    },
    "id": "wkpXF6Cxv-t2"
   },
   "outputs": [],
   "source": [
    "train_df['LotFrontage'] = train_df['LotFrontage'].fillna(train_df['LotFrontage'].mean())\n",
    "train_df['MasVnrArea']  = train_df['MasVnrArea'].fillna(train_df['MasVnrArea'].mean())  \n",
    "train_df['GarageYrBlt'] = train_df['GarageYrBlt'].fillna(train_df['GarageYrBlt'].median())"
   ]
  },
  {
   "cell_type": "markdown",
   "metadata": {
    "id": "_u79MoqEe2iE"
   },
   "source": [
    "For numerical data , \n",
    "      \n",
    "       \n",
    "\n",
    "*   if skew value is postiive use mean to fill the missing value.\n",
    "*   if skew value is negative use median to fill the missing value.\n",
    "*   if skew value is zero, use either mean or median to fill the missing value.\n",
    "\n",
    "              "
   ]
  },
  {
   "cell_type": "code",
   "execution_count": null,
   "metadata": {
    "execution": {
     "iopub.execute_input": "2023-05-01T16:21:23.615608Z",
     "iopub.status.busy": "2023-05-01T16:21:23.614723Z",
     "iopub.status.idle": "2023-05-01T16:21:23.642119Z",
     "shell.execute_reply": "2023-05-01T16:21:23.640935Z",
     "shell.execute_reply.started": "2023-05-01T16:21:23.615547Z"
    },
    "id": "OvIc6Ofxy258"
   },
   "outputs": [],
   "source": [
    "train_df['MasVnrType']   = train_df['MasVnrType'].fillna(train_df['MasVnrType'].mode()[0])  \n",
    "train_df['BsmtQual']     = train_df['BsmtQual'].fillna(train_df['BsmtQual'].mode()[0])  \n",
    "train_df['BsmtCond']     = train_df['BsmtCond'].fillna(train_df['BsmtCond'].mode()[0])  \n",
    "train_df['BsmtExposure'] = train_df['BsmtExposure'].fillna(train_df['BsmtExposure'].mode()[0])  \n",
    "train_df['BsmtFinType1'] = train_df['BsmtFinType1'].fillna(train_df['BsmtFinType1'].mode()[0])  \n",
    "train_df['BsmtFinType2'] = train_df['BsmtFinType2'].fillna(train_df['BsmtFinType2'].mode()[0])  \n",
    "train_df['Electrical']   = train_df['Electrical'].fillna(train_df['Electrical'].mode()[0])  \n",
    "train_df['FireplaceQu']  = train_df['FireplaceQu'].fillna(train_df['FireplaceQu'].mode()[0])  \n",
    "train_df['GarageType']   = train_df['GarageType'].fillna(train_df['GarageType'].mode()[0])  \n",
    "train_df['GarageFinish'] = train_df['GarageFinish'].fillna(train_df['GarageFinish'].mode()[0]) \n",
    "train_df['GarageQual']   = train_df['GarageQual'].fillna(train_df['GarageQual'].mode()[0])  \n",
    "train_df['GarageCond']   = train_df['GarageCond'].fillna(train_df['GarageCond'].mode()[0])  "
   ]
  },
  {
   "cell_type": "markdown",
   "metadata": {
    "id": "ch-Guw3tgKwD"
   },
   "source": [
    "For the categorical values, use mode to fill the missing value\n",
    "\n",
    "\n"
   ]
  },
  {
   "cell_type": "code",
   "execution_count": null,
   "metadata": {
    "execution": {
     "iopub.execute_input": "2023-05-01T16:21:23.645934Z",
     "iopub.status.busy": "2023-05-01T16:21:23.643816Z",
     "iopub.status.idle": "2023-05-01T16:21:23.662111Z",
     "shell.execute_reply": "2023-05-01T16:21:23.660815Z",
     "shell.execute_reply.started": "2023-05-01T16:21:23.645863Z"
    },
    "id": "JMilpDLhzuLP",
    "outputId": "a673a597-c06f-4fc4-c720-c0dbc17bb0bc"
   },
   "outputs": [],
   "source": [
    "train_df.isnull().values.sum()"
   ]
  },
  {
   "cell_type": "code",
   "execution_count": null,
   "metadata": {
    "execution": {
     "iopub.execute_input": "2023-05-01T16:21:23.664746Z",
     "iopub.status.busy": "2023-05-01T16:21:23.663791Z",
     "iopub.status.idle": "2023-05-01T16:21:23.757204Z",
     "shell.execute_reply": "2023-05-01T16:21:23.755686Z",
     "shell.execute_reply.started": "2023-05-01T16:21:23.664689Z"
    },
    "id": "xxwLAGrzBFbM"
   },
   "outputs": [],
   "source": [
    "test_df.fillna(test_df.mode().iloc[0],inplace=True)"
   ]
  },
  {
   "cell_type": "code",
   "execution_count": null,
   "metadata": {
    "execution": {
     "iopub.execute_input": "2023-05-01T16:21:23.761061Z",
     "iopub.status.busy": "2023-05-01T16:21:23.758919Z",
     "iopub.status.idle": "2023-05-01T16:21:23.777264Z",
     "shell.execute_reply": "2023-05-01T16:21:23.775560Z",
     "shell.execute_reply.started": "2023-05-01T16:21:23.761002Z"
    },
    "id": "WNlV4qz4BJBy",
    "outputId": "61ee0f1c-ab9a-480d-8aed-04f36bc57659"
   },
   "outputs": [],
   "source": [
    "test_df.isnull().values.sum()"
   ]
  },
  {
   "cell_type": "markdown",
   "metadata": {
    "id": "bP27787ahBjc"
   },
   "source": [
    "## **Correlation**"
   ]
  },
  {
   "cell_type": "code",
   "execution_count": null,
   "metadata": {
    "execution": {
     "iopub.execute_input": "2023-05-01T16:21:23.780848Z",
     "iopub.status.busy": "2023-05-01T16:21:23.779660Z",
     "iopub.status.idle": "2023-05-01T16:21:23.843343Z",
     "shell.execute_reply": "2023-05-01T16:21:23.841820Z",
     "shell.execute_reply.started": "2023-05-01T16:21:23.780787Z"
    },
    "id": "8U86GKxm65L3",
    "outputId": "54c79533-7823-4769-d3e2-4ef303355ecd"
   },
   "outputs": [],
   "source": [
    "train_df.corr()"
   ]
  },
  {
   "cell_type": "code",
   "execution_count": null,
   "metadata": {
    "execution": {
     "iopub.execute_input": "2023-05-01T16:21:23.847211Z",
     "iopub.status.busy": "2023-05-01T16:21:23.846161Z",
     "iopub.status.idle": "2023-05-01T16:21:31.876556Z",
     "shell.execute_reply": "2023-05-01T16:21:31.873478Z",
     "shell.execute_reply.started": "2023-05-01T16:21:23.847152Z"
    },
    "id": "yNJXZatZ83Og",
    "outputId": "2c75860a-eae5-4903-d475-dd6c1fcfd7ab"
   },
   "outputs": [],
   "source": [
    "plt.figure(figsize=(18,16))\n",
    "sns.heatmap(train_df.corr(),annot=True,linewidth=.7,)"
   ]
  },
  {
   "cell_type": "code",
   "execution_count": null,
   "metadata": {
    "execution": {
     "iopub.execute_input": "2023-05-01T16:21:31.879814Z",
     "iopub.status.busy": "2023-05-01T16:21:31.878311Z",
     "iopub.status.idle": "2023-05-01T16:21:31.900405Z",
     "shell.execute_reply": "2023-05-01T16:21:31.898644Z",
     "shell.execute_reply.started": "2023-05-01T16:21:31.879757Z"
    },
    "id": "o_9ao09a9BkI",
    "outputId": "61d49c45-dd4d-4242-c483-da1c3229a201"
   },
   "outputs": [],
   "source": [
    "corr=train_df.corr()\n",
    "\n",
    "high_corr_features=corr.index[abs(corr['SalePrice'])>0.50]\n",
    "print(f'highly correlated feature:\\n',high_corr_features)\n",
    "print(f'No. of highly correlated features:',len(high_corr_features))"
   ]
  },
  {
   "cell_type": "code",
   "execution_count": null,
   "metadata": {
    "execution": {
     "iopub.execute_input": "2023-05-01T16:21:31.903092Z",
     "iopub.status.busy": "2023-05-01T16:21:31.902735Z",
     "iopub.status.idle": "2023-05-01T16:21:32.902596Z",
     "shell.execute_reply": "2023-05-01T16:21:32.901139Z",
     "shell.execute_reply.started": "2023-05-01T16:21:31.903046Z"
    },
    "id": "Xh91UZEF9ccl",
    "outputId": "20ed384f-8c94-4a38-c16f-b2aec2aaa368"
   },
   "outputs": [],
   "source": [
    "plt.figure(figsize=(12,10))\n",
    "sns.heatmap(train_df[high_corr_features].corr(),annot=True,linewidth=2,)"
   ]
  },
  {
   "cell_type": "markdown",
   "metadata": {
    "id": "UdMH-sPzhrej"
   },
   "source": [
    "# convert categorical data into numerical data"
   ]
  },
  {
   "cell_type": "code",
   "execution_count": null,
   "metadata": {
    "execution": {
     "iopub.execute_input": "2023-05-01T16:21:32.904848Z",
     "iopub.status.busy": "2023-05-01T16:21:32.904422Z",
     "iopub.status.idle": "2023-05-01T16:21:32.953960Z",
     "shell.execute_reply": "2023-05-01T16:21:32.952555Z",
     "shell.execute_reply.started": "2023-05-01T16:21:32.904786Z"
    },
    "id": "rCBvDW9T9iS-",
    "outputId": "1ee82747-f5db-40d2-ce1a-03b724859c87"
   },
   "outputs": [],
   "source": [
    "train_df=pd.get_dummies(train_df,drop_first=True)\n",
    "print(f'Train shape: {train_df.shape}')"
   ]
  },
  {
   "cell_type": "code",
   "execution_count": null,
   "metadata": {
    "execution": {
     "iopub.execute_input": "2023-05-01T16:21:32.956940Z",
     "iopub.status.busy": "2023-05-01T16:21:32.956088Z",
     "iopub.status.idle": "2023-05-01T16:21:33.005090Z",
     "shell.execute_reply": "2023-05-01T16:21:33.003568Z",
     "shell.execute_reply.started": "2023-05-01T16:21:32.956888Z"
    },
    "id": "DN1IGrnv_beX",
    "outputId": "9895f260-d928-4350-b120-dd4d2e48fbd8"
   },
   "outputs": [],
   "source": [
    "test_df=pd.get_dummies(test_df,drop_first=True)\n",
    "print(f'Test shape: {test_df.shape}')"
   ]
  },
  {
   "cell_type": "code",
   "execution_count": null,
   "metadata": {
    "execution": {
     "iopub.execute_input": "2023-05-01T16:21:33.007817Z",
     "iopub.status.busy": "2023-05-01T16:21:33.007250Z",
     "iopub.status.idle": "2023-05-01T16:21:33.024239Z",
     "shell.execute_reply": "2023-05-01T16:21:33.022854Z",
     "shell.execute_reply.started": "2023-05-01T16:21:33.007765Z"
    },
    "id": "XZA5ciK8_jPJ",
    "outputId": "a5ea9604-03db-4ea9-8826-97573bd12422"
   },
   "outputs": [],
   "source": [
    "len(train_df.select_dtypes(include='object').columns)\n",
    "len(test_df.select_dtypes(include='object').columns)"
   ]
  },
  {
   "cell_type": "markdown",
   "metadata": {
    "id": "ynTeQK1dh5y9"
   },
   "source": [
    "## **Data Standardization and Splitting the Data**"
   ]
  },
  {
   "cell_type": "code",
   "execution_count": null,
   "metadata": {
    "execution": {
     "iopub.execute_input": "2023-05-01T16:21:33.025833Z",
     "iopub.status.busy": "2023-05-01T16:21:33.025485Z",
     "iopub.status.idle": "2023-05-01T16:21:33.175806Z",
     "shell.execute_reply": "2023-05-01T16:21:33.174384Z",
     "shell.execute_reply.started": "2023-05-01T16:21:33.025800Z"
    },
    "id": "4f9O9VZPCMTR"
   },
   "outputs": [],
   "source": [
    "from sklearn.preprocessing import StandardScaler\n",
    "from sklearn.model_selection import train_test_split"
   ]
  },
  {
   "cell_type": "code",
   "execution_count": null,
   "metadata": {
    "execution": {
     "iopub.execute_input": "2023-05-01T16:21:33.177636Z",
     "iopub.status.busy": "2023-05-01T16:21:33.177285Z",
     "iopub.status.idle": "2023-05-01T16:21:33.186424Z",
     "shell.execute_reply": "2023-05-01T16:21:33.184853Z",
     "shell.execute_reply.started": "2023-05-01T16:21:33.177603Z"
    },
    "id": "Qc8Gns1-_y5t"
   },
   "outputs": [],
   "source": [
    "X=train_df[high_corr_features.drop('SalePrice')]\n",
    "y=train_df[['SalePrice']]"
   ]
  },
  {
   "cell_type": "code",
   "execution_count": null,
   "metadata": {
    "execution": {
     "iopub.execute_input": "2023-05-01T16:21:33.188376Z",
     "iopub.status.busy": "2023-05-01T16:21:33.187980Z",
     "iopub.status.idle": "2023-05-01T16:21:33.200839Z",
     "shell.execute_reply": "2023-05-01T16:21:33.199327Z",
     "shell.execute_reply.started": "2023-05-01T16:21:33.188340Z"
    },
    "id": "BsfLEw3EA6qa"
   },
   "outputs": [],
   "source": [
    "test_df=test_df[high_corr_features.drop('SalePrice')]"
   ]
  },
  {
   "cell_type": "code",
   "execution_count": null,
   "metadata": {
    "execution": {
     "iopub.execute_input": "2023-05-01T16:21:33.202895Z",
     "iopub.status.busy": "2023-05-01T16:21:33.202551Z",
     "iopub.status.idle": "2023-05-01T16:21:33.219026Z",
     "shell.execute_reply": "2023-05-01T16:21:33.217549Z",
     "shell.execute_reply.started": "2023-05-01T16:21:33.202864Z"
    },
    "id": "UctHKYlLBgjJ"
   },
   "outputs": [],
   "source": [
    "X_train, X_test, y_train, y_test = train_test_split(X, y, test_size=0.3, random_state=10)"
   ]
  },
  {
   "cell_type": "code",
   "execution_count": null,
   "metadata": {
    "execution": {
     "iopub.execute_input": "2023-05-01T16:21:33.221514Z",
     "iopub.status.busy": "2023-05-01T16:21:33.221062Z",
     "iopub.status.idle": "2023-05-01T16:21:33.232060Z",
     "shell.execute_reply": "2023-05-01T16:21:33.230362Z",
     "shell.execute_reply.started": "2023-05-01T16:21:33.221438Z"
    },
    "id": "RAgjpYCdCUVz",
    "outputId": "90500dae-bfb9-4186-d530-f56457ec2b79"
   },
   "outputs": [],
   "source": [
    "print( X_train.shape, X_test.shape)"
   ]
  },
  {
   "cell_type": "code",
   "execution_count": null,
   "metadata": {
    "execution": {
     "iopub.execute_input": "2023-05-01T16:21:33.234153Z",
     "iopub.status.busy": "2023-05-01T16:21:33.233731Z",
     "iopub.status.idle": "2023-05-01T16:21:33.241231Z",
     "shell.execute_reply": "2023-05-01T16:21:33.239734Z",
     "shell.execute_reply.started": "2023-05-01T16:21:33.234114Z"
    },
    "id": "DFMb3wWKCXNI"
   },
   "outputs": [],
   "source": [
    "scaler = StandardScaler()"
   ]
  },
  {
   "cell_type": "code",
   "execution_count": null,
   "metadata": {
    "execution": {
     "iopub.execute_input": "2023-05-01T16:21:33.244180Z",
     "iopub.status.busy": "2023-05-01T16:21:33.243237Z",
     "iopub.status.idle": "2023-05-01T16:21:33.265672Z",
     "shell.execute_reply": "2023-05-01T16:21:33.264193Z",
     "shell.execute_reply.started": "2023-05-01T16:21:33.244134Z"
    },
    "id": "EoGim0IbDPhd"
   },
   "outputs": [],
   "source": [
    "X_train=scaler.fit_transform(X_train)\n",
    "X_test=scaler.fit_transform(X_test)\n",
    "test_df=scaler.fit_transform(test_df)"
   ]
  },
  {
   "cell_type": "markdown",
   "metadata": {
    "id": "jRpezLb2iF5r"
   },
   "source": [
    "## **Traning the Model**"
   ]
  },
  {
   "cell_type": "code",
   "execution_count": null,
   "metadata": {
    "execution": {
     "iopub.execute_input": "2023-05-01T16:21:33.268532Z",
     "iopub.status.busy": "2023-05-01T16:21:33.268127Z",
     "iopub.status.idle": "2023-05-01T16:21:33.366871Z",
     "shell.execute_reply": "2023-05-01T16:21:33.365413Z",
     "shell.execute_reply.started": "2023-05-01T16:21:33.268482Z"
    },
    "id": "T5t6iB_SDn6_"
   },
   "outputs": [],
   "source": [
    "from sklearn.linear_model import LinearRegression"
   ]
  },
  {
   "cell_type": "markdown",
   "metadata": {
    "id": "5Ff5lWdIif6e"
   },
   "source": [
    "#Create an instance of a LinearRegression() model named lm."
   ]
  },
  {
   "cell_type": "code",
   "execution_count": null,
   "metadata": {
    "execution": {
     "iopub.execute_input": "2023-05-01T16:21:33.368847Z",
     "iopub.status.busy": "2023-05-01T16:21:33.368493Z",
     "iopub.status.idle": "2023-05-01T16:21:33.375613Z",
     "shell.execute_reply": "2023-05-01T16:21:33.373602Z",
     "shell.execute_reply.started": "2023-05-01T16:21:33.368812Z"
    },
    "id": "SAATuCf7EoGM"
   },
   "outputs": [],
   "source": [
    "lr = LinearRegression()"
   ]
  },
  {
   "cell_type": "code",
   "execution_count": null,
   "metadata": {
    "execution": {
     "iopub.execute_input": "2023-05-01T16:21:33.377899Z",
     "iopub.status.busy": "2023-05-01T16:21:33.377431Z",
     "iopub.status.idle": "2023-05-01T16:21:33.407501Z",
     "shell.execute_reply": "2023-05-01T16:21:33.405677Z",
     "shell.execute_reply.started": "2023-05-01T16:21:33.377858Z"
    },
    "id": "oMQVDsKCEspG",
    "outputId": "0f1ba7bf-6869-4302-e0ea-078e81dd67f2"
   },
   "outputs": [],
   "source": [
    "lr.fit(X_train,y_train)"
   ]
  },
  {
   "cell_type": "markdown",
   "metadata": {
    "id": "VhLL2U-hil25"
   },
   "source": [
    "#Print out the coefficients of the model"
   ]
  },
  {
   "cell_type": "code",
   "execution_count": null,
   "metadata": {
    "execution": {
     "iopub.execute_input": "2023-05-01T16:21:33.409692Z",
     "iopub.status.busy": "2023-05-01T16:21:33.409149Z",
     "iopub.status.idle": "2023-05-01T16:21:33.421742Z",
     "shell.execute_reply": "2023-05-01T16:21:33.419846Z",
     "shell.execute_reply.started": "2023-05-01T16:21:33.409634Z"
    },
    "id": "HXpFgDo0ExDV",
    "outputId": "76f77615-3ea0-4260-c0af-2facd051a412"
   },
   "outputs": [],
   "source": [
    "print('Coefficients: \\n', lr.coef_)"
   ]
  },
  {
   "cell_type": "code",
   "execution_count": null,
   "metadata": {
    "execution": {
     "iopub.execute_input": "2023-05-01T16:21:33.425187Z",
     "iopub.status.busy": "2023-05-01T16:21:33.423903Z",
     "iopub.status.idle": "2023-05-01T16:21:33.434332Z",
     "shell.execute_reply": "2023-05-01T16:21:33.432907Z",
     "shell.execute_reply.started": "2023-05-01T16:21:33.425114Z"
    },
    "id": "aOIMHCNAE4IF"
   },
   "outputs": [],
   "source": [
    "pred = lr.predict(X_test)"
   ]
  },
  {
   "cell_type": "code",
   "execution_count": null,
   "metadata": {
    "execution": {
     "iopub.execute_input": "2023-05-01T16:21:33.438035Z",
     "iopub.status.busy": "2023-05-01T16:21:33.436511Z",
     "iopub.status.idle": "2023-05-01T16:21:33.717316Z",
     "shell.execute_reply": "2023-05-01T16:21:33.716358Z",
     "shell.execute_reply.started": "2023-05-01T16:21:33.437963Z"
    },
    "id": "GMkgSzpAE9RW",
    "outputId": "c1621a0c-6a6c-4d16-9b06-f66df4a824ae"
   },
   "outputs": [],
   "source": [
    "plt.scatter(y_test,pred)\n",
    "plt.xlabel('Y Test')\n",
    "plt.ylabel('Predicted Y')"
   ]
  },
  {
   "cell_type": "code",
   "execution_count": null,
   "metadata": {
    "execution": {
     "iopub.execute_input": "2023-05-01T16:21:33.719514Z",
     "iopub.status.busy": "2023-05-01T16:21:33.719108Z",
     "iopub.status.idle": "2023-05-01T16:21:33.733784Z",
     "shell.execute_reply": "2023-05-01T16:21:33.731973Z",
     "shell.execute_reply.started": "2023-05-01T16:21:33.719477Z"
    },
    "id": "mzCLSUQ7FE3J",
    "outputId": "a2a7f1d0-c9ae-458f-ed5c-5c652efdb250"
   },
   "outputs": [],
   "source": [
    "from sklearn import metrics\n",
    "\n",
    "print('MAE:', metrics.mean_absolute_error(y_test, pred))\n",
    "print('MSE:', metrics.mean_squared_error(y_test, pred))\n",
    "print('RMSE:', np.sqrt(metrics.mean_squared_error(y_test, pred)))"
   ]
  },
  {
   "cell_type": "markdown",
   "metadata": {
    "id": "JfVkg1S2iw38"
   },
   "source": [
    "##**Predicting Test Data**"
   ]
  },
  {
   "cell_type": "code",
   "execution_count": null,
   "metadata": {
    "execution": {
     "iopub.execute_input": "2023-05-01T16:21:33.736844Z",
     "iopub.status.busy": "2023-05-01T16:21:33.736121Z",
     "iopub.status.idle": "2023-05-01T16:21:33.751039Z",
     "shell.execute_reply": "2023-05-01T16:21:33.749225Z",
     "shell.execute_reply.started": "2023-05-01T16:21:33.736804Z"
    },
    "id": "E9DXqo6qFPDI",
    "outputId": "2db5d918-14b7-4984-ebf3-cd9cdfcf1b65"
   },
   "outputs": [],
   "source": [
    "prediction=lr.predict(test_df)\n",
    "prediction.shape"
   ]
  },
  {
   "cell_type": "code",
   "execution_count": null,
   "metadata": {
    "execution": {
     "iopub.execute_input": "2023-05-01T16:21:33.754238Z",
     "iopub.status.busy": "2023-05-01T16:21:33.753596Z",
     "iopub.status.idle": "2023-05-01T16:21:33.762749Z",
     "shell.execute_reply": "2023-05-01T16:21:33.761253Z",
     "shell.execute_reply.started": "2023-05-01T16:21:33.754169Z"
    },
    "id": "pAvBkEIXQwPH",
    "outputId": "88557b61-9dd7-4e1e-e3d5-24b0dfc25c3a"
   },
   "outputs": [],
   "source": [
    "print(prediction)"
   ]
  },
  {
   "cell_type": "code",
   "execution_count": null,
   "metadata": {
    "execution": {
     "iopub.execute_input": "2023-05-01T16:21:33.765300Z",
     "iopub.status.busy": "2023-05-01T16:21:33.764228Z",
     "iopub.status.idle": "2023-05-01T16:21:33.776408Z",
     "shell.execute_reply": "2023-05-01T16:21:33.774599Z",
     "shell.execute_reply.started": "2023-05-01T16:21:33.765225Z"
    },
    "id": "gwn7iv-gLxl5"
   },
   "outputs": [],
   "source": [
    "ids = df_test['Id']"
   ]
  },
  {
   "cell_type": "code",
   "execution_count": null,
   "metadata": {
    "execution": {
     "iopub.execute_input": "2023-05-01T16:21:33.779671Z",
     "iopub.status.busy": "2023-05-01T16:21:33.778963Z",
     "iopub.status.idle": "2023-05-01T16:21:33.794814Z",
     "shell.execute_reply": "2023-05-01T16:21:33.792910Z",
     "shell.execute_reply.started": "2023-05-01T16:21:33.779602Z"
    },
    "id": "gTk9NGDVQ8MB",
    "outputId": "4b88126f-7251-497d-f0eb-7db63c33c112"
   },
   "outputs": [],
   "source": [
    "print(ids)"
   ]
  },
  {
   "cell_type": "code",
   "execution_count": null,
   "metadata": {
    "execution": {
     "iopub.execute_input": "2023-05-01T16:21:33.799671Z",
     "iopub.status.busy": "2023-05-01T16:21:33.796999Z",
     "iopub.status.idle": "2023-05-01T16:21:33.812949Z",
     "shell.execute_reply": "2023-05-01T16:21:33.811084Z",
     "shell.execute_reply.started": "2023-05-01T16:21:33.799591Z"
    },
    "id": "Kj_d5VHjL6Vf"
   },
   "outputs": [],
   "source": [
    "Final = pd.DataFrame({\"Id\":ids})"
   ]
  },
  {
   "cell_type": "code",
   "execution_count": null,
   "metadata": {
    "execution": {
     "iopub.execute_input": "2023-05-01T16:21:33.816146Z",
     "iopub.status.busy": "2023-05-01T16:21:33.815226Z",
     "iopub.status.idle": "2023-05-01T16:21:33.834130Z",
     "shell.execute_reply": "2023-05-01T16:21:33.832757Z",
     "shell.execute_reply.started": "2023-05-01T16:21:33.816094Z"
    },
    "id": "GrxlZwktRj43"
   },
   "outputs": [],
   "source": [
    "Final = pd.DataFrame({\"Sales Price\":prediction.flatten()})"
   ]
  },
  {
   "cell_type": "code",
   "execution_count": null,
   "metadata": {
    "execution": {
     "iopub.execute_input": "2023-05-01T16:21:33.836785Z",
     "iopub.status.busy": "2023-05-01T16:21:33.836284Z",
     "iopub.status.idle": "2023-05-01T16:21:33.850748Z",
     "shell.execute_reply": "2023-05-01T16:21:33.849313Z",
     "shell.execute_reply.started": "2023-05-01T16:21:33.836730Z"
    },
    "id": "GxqM9jL2T3Im"
   },
   "outputs": [],
   "source": [
    "Final_sub = pd.DataFrame({\"Id\":ids,\"SalePrice\":prediction.flatten()})"
   ]
  },
  {
   "cell_type": "code",
   "execution_count": null,
   "metadata": {
    "execution": {
     "iopub.execute_input": "2023-05-01T16:21:33.852492Z",
     "iopub.status.busy": "2023-05-01T16:21:33.852068Z",
     "iopub.status.idle": "2023-05-01T16:21:33.872738Z",
     "shell.execute_reply": "2023-05-01T16:21:33.871172Z",
     "shell.execute_reply.started": "2023-05-01T16:21:33.852428Z"
    },
    "id": "V5AX2g_IL977",
    "outputId": "d458b368-0f48-4ab5-b262-2ff628fb2d93"
   },
   "outputs": [],
   "source": [
    "Final_sub.head(10)"
   ]
  },
  {
   "cell_type": "code",
   "execution_count": null,
   "metadata": {
    "execution": {
     "iopub.execute_input": "2023-05-01T16:22:04.206642Z",
     "iopub.status.busy": "2023-05-01T16:22:04.206125Z",
     "iopub.status.idle": "2023-05-01T16:22:04.221188Z",
     "shell.execute_reply": "2023-05-01T16:22:04.220010Z",
     "shell.execute_reply.started": "2023-05-01T16:22:04.206604Z"
    },
    "id": "BlBO2WowMCBg"
   },
   "outputs": [],
   "source": [
    "Final_sub.to_csv('submission.csv', index = 'None')"
   ]
  },
  {
   "cell_type": "markdown",
   "metadata": {
    "id": "XAAqk-pIjkdu"
   },
   "source": [
    "# **COMPLETED**"
   ]
  },
  {
   "cell_type": "code",
   "execution_count": null,
   "metadata": {
    "id": "3WA1YFQzjpZZ"
   },
   "outputs": [],
   "source": []
  }
 ],
 "metadata": {
  "kernelspec": {
   "display_name": "Python 3 (ipykernel)",
   "language": "python",
   "name": "python3"
  },
  "language_info": {
   "codemirror_mode": {
    "name": "ipython",
    "version": 3
   },
   "file_extension": ".py",
   "mimetype": "text/x-python",
   "name": "python",
   "nbconvert_exporter": "python",
   "pygments_lexer": "ipython3",
   "version": "3.9.13"
  }
 },
 "nbformat": 4,
 "nbformat_minor": 4
}
